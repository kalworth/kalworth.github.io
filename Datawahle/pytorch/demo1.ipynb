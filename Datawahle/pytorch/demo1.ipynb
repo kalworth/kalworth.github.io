{
 "cells": [
  {
   "cell_type": "code",
   "execution_count": 7,
   "metadata": {},
   "outputs": [],
   "source": [
    "import os\n",
    "import numpy as np\n",
    "import pandas as pd\n",
    "import torch\n",
    "import torch.nn as nn\n",
    "import torch.optim as optim\n",
    "from torch.utils.data import Dataset, DataLoader\n",
    "from torchvision import transforms\n",
    "from torchvision import datasets"
   ]
  },
  {
   "cell_type": "markdown",
   "metadata": {},
   "source": [
    "导入前置操作需要的所有包"
   ]
  },
  {
   "cell_type": "code",
   "execution_count": 8,
   "metadata": {},
   "outputs": [],
   "source": [
    "os.environ['CUDA_VISIBLE_DEVICES'] = '0'\n",
    "batch_size = 256  # 批次补充\n",
    "num_workers = 0   # 对于Windows用户，这里应设置为0，否则会出现多线程错误\n",
    "lr = 1e-4\n",
    "epochs = 20"
   ]
  },
  {
   "cell_type": "markdown",
   "metadata": {},
   "source": [
    "设置GPU，以及训练需要的超参数"
   ]
  },
  {
   "cell_type": "code",
   "execution_count": 9,
   "metadata": {},
   "outputs": [],
   "source": [
    "image_size = 28\n",
    "data_transform = transforms.Compose([\n",
    "    # transforms.ToPILImage(),\n",
    "    transforms.Resize(image_size),\n",
    "    transforms.ToTensor()\n",
    "])"
   ]
  },
  {
   "cell_type": "code",
   "execution_count": 10,
   "metadata": {},
   "outputs": [],
   "source": [
    "train_data = datasets.FashionMNIST(\n",
    "    root='D:\\BaiduNetdiskDownload\\FashionMNIST/', train=True, download=False, transform=data_transform)\n",
    "test_data = datasets.FashionMNIST(\n",
    "    root='D:\\BaiduNetdiskDownload\\FashionMNIST/', train=False, download=False, transform=data_transform)"
   ]
  },
  {
   "cell_type": "code",
   "execution_count": 11,
   "metadata": {},
   "outputs": [],
   "source": [
    "train_loader = DataLoader(train_data, batch_size=batch_size, shuffle=True, num_workers=num_workers, drop_last=True)\n",
    "test_loader = DataLoader(test_data, batch_size=batch_size, shuffle=False, num_workers=num_workers)"
   ]
  },
  {
   "cell_type": "markdown",
   "metadata": {},
   "source": [
    "读入数据后，按照设定的参数来载入数据"
   ]
  },
  {
   "cell_type": "code",
   "execution_count": 12,
   "metadata": {},
   "outputs": [
    {
     "name": "stdout",
     "output_type": "stream",
     "text": [
      "torch.Size([256, 1, 28, 28]) torch.Size([256])\n"
     ]
    },
    {
     "data": {
      "text/plain": [
       "<matplotlib.image.AxesImage at 0x1776a6c5780>"
      ]
     },
     "execution_count": 12,
     "metadata": {},
     "output_type": "execute_result"
    },
    {
     "data": {
      "image/png": "[encoded data removed]",
      "text/plain": [
       "<Figure size 432x288 with 1 Axes>"
      ]
     },
     "metadata": {
      "needs_background": "light"
     },
     "output_type": "display_data"
    }
   ],
   "source": [
    "import matplotlib.pyplot as plt\n",
    "image, label = next(iter(train_loader))\n",
    "print(image.shape, label.shape)\n",
    "plt.imshow(image[0][0], cmap=\"gray\")"
   ]
  },
  {
   "cell_type": "code",
   "execution_count": 13,
   "metadata": {},
   "outputs": [],
   "source": [
    "#设计神经网络\n",
    "class Net(nn.Module):\n",
    "    def __init__(self):\n",
    "        super(Net, self).__init__()\n",
    "        self.conv = nn.Sequential(\n",
    "            nn.Conv2d(1, 32, 5),\n",
    "            nn.ReLU(),\n",
    "            nn.MaxPool2d(2, stride=2),\n",
    "            nn.Dropout(0.3),\n",
    "            nn.Conv2d(32, 64, 5),\n",
    "            nn.ReLU(),\n",
    "            nn.MaxPool2d(2, stride=2),\n",
    "            nn.Dropout(0.3)\n",
    "        )\n",
    "        self.fc = nn.Sequential(\n",
    "            nn.Linear(64*4*4, 512),\n",
    "            nn.ReLU(),\n",
    "            nn.Linear(512, 10)\n",
    "        )\n",
    "        \n",
    "    def forward(self, x):\n",
    "        x = self.conv(x)\n",
    "        x = x.view(-1, 64*4*4)\n",
    "        x = self.fc(x)\n",
    "        # x = nn.functional.normalize(x)\n",
    "        return x\n",
    "\n",
    "model = Net()\n",
    "model = model.cuda()"
   ]
  },
  {
   "cell_type": "code",
   "execution_count": 14,
   "metadata": {},
   "outputs": [],
   "source": [
    "criterion = nn.CrossEntropyLoss()"
   ]
  },
  {
   "cell_type": "code",
   "execution_count": 15,
   "metadata": {},
   "outputs": [],
   "source": [
    "optimizer = optim.Adam(model.parameters(), lr=0.001)"
   ]
  },
  {
   "cell_type": "code",
   "execution_count": 16,
   "metadata": {},
   "outputs": [],
   "source": [
    "def train(epoch):\n",
    "    model.train()\n",
    "    train_loss = 0\n",
    "    for data, label in train_loader:\n",
    "        data, label = data.cuda(), label.cuda()\n",
    "        optimizer.zero_grad()\n",
    "        output = model(data)\n",
    "        loss = criterion(output, label)\n",
    "        loss.backward()\n",
    "        optimizer.step()\n",
    "        train_loss += loss.item()*data.size(0)\n",
    "    train_loss = train_loss/len(train_loader.dataset)\n",
    "    print('Epoch: {} \\tTraining Loss: {:.6f}'.format(epoch, train_loss))"
   ]
  },
  {
   "cell_type": "code",
   "execution_count": 17,
   "metadata": {},
   "outputs": [],
   "source": [
    "def val(epoch):       \n",
    "    model.eval()\n",
    "    val_loss = 0\n",
    "    gt_labels = []\n",
    "    pred_labels = []\n",
    "    with torch.no_grad():\n",
    "        for data, label in test_loader:\n",
    "            data, label = data.cuda(), label.cuda()\n",
    "            output = model(data)\n",
    "            preds = torch.argmax(output, 1)\n",
    "            gt_labels.append(label.cpu().data.numpy())\n",
    "            pred_labels.append(preds.cpu().data.numpy())\n",
    "            loss = criterion(output, label)\n",
    "            val_loss += loss.item()*data.size(0)\n",
    "    val_loss = val_loss/len(test_loader.dataset)\n",
    "    gt_labels, pred_labels = np.concatenate(gt_labels), np.concatenate(pred_labels)\n",
    "    acc = np.sum(gt_labels==pred_labels)/len(pred_labels)\n",
    "    print('Epoch: {} \\tValidation Loss: {:.6f}, Accuracy: {:6f}'.format(epoch, val_loss, acc))"
   ]
  },
  {
   "cell_type": "code",
   "execution_count": 18,
   "metadata": {},
   "outputs": [
    {
     "name": "stdout",
     "output_type": "stream",
     "text": [
      "Epoch: 1 \tTraining Loss: 0.656190\n",
      "Epoch: 1 \tValidation Loss: 0.413230, Accuracy: 0.852000\n",
      "Epoch: 2 \tTraining Loss: 0.415757\n",
      "Epoch: 2 \tValidation Loss: 0.335658, Accuracy: 0.879800\n",
      "Epoch: 3 \tTraining Loss: 0.354025\n",
      "Epoch: 3 \tValidation Loss: 0.292145, Accuracy: 0.892500\n",
      "Epoch: 4 \tTraining Loss: 0.324797\n",
      "Epoch: 4 \tValidation Loss: 0.272536, Accuracy: 0.898900\n",
      "Epoch: 5 \tTraining Loss: 0.301305\n",
      "Epoch: 5 \tValidation Loss: 0.276038, Accuracy: 0.897700\n",
      "Epoch: 6 \tTraining Loss: 0.284770\n",
      "Epoch: 6 \tValidation Loss: 0.252385, Accuracy: 0.905300\n",
      "Epoch: 7 \tTraining Loss: 0.272588\n",
      "Epoch: 7 \tValidation Loss: 0.243967, Accuracy: 0.910200\n",
      "Epoch: 8 \tTraining Loss: 0.258514\n",
      "Epoch: 8 \tValidation Loss: 0.234251, Accuracy: 0.912000\n",
      "Epoch: 9 \tTraining Loss: 0.249231\n",
      "Epoch: 9 \tValidation Loss: 0.232444, Accuracy: 0.915000\n",
      "Epoch: 10 \tTraining Loss: 0.237940\n",
      "Epoch: 10 \tValidation Loss: 0.229074, Accuracy: 0.916500\n",
      "Epoch: 11 \tTraining Loss: 0.234217\n",
      "Epoch: 11 \tValidation Loss: 0.217144, Accuracy: 0.920100\n",
      "Epoch: 12 \tTraining Loss: 0.222718\n",
      "Epoch: 12 \tValidation Loss: 0.223631, Accuracy: 0.918300\n",
      "Epoch: 13 \tTraining Loss: 0.216476\n",
      "Epoch: 13 \tValidation Loss: 0.217930, Accuracy: 0.919900\n",
      "Epoch: 14 \tTraining Loss: 0.209903\n",
      "Epoch: 14 \tValidation Loss: 0.210763, Accuracy: 0.920900\n",
      "Epoch: 15 \tTraining Loss: 0.201335\n",
      "Epoch: 15 \tValidation Loss: 0.203452, Accuracy: 0.923600\n",
      "Epoch: 16 \tTraining Loss: 0.195215\n",
      "Epoch: 16 \tValidation Loss: 0.213577, Accuracy: 0.921200\n",
      "Epoch: 17 \tTraining Loss: 0.191985\n",
      "Epoch: 17 \tValidation Loss: 0.202818, Accuracy: 0.923400\n",
      "Epoch: 18 \tTraining Loss: 0.187781\n",
      "Epoch: 18 \tValidation Loss: 0.204103, Accuracy: 0.925300\n",
      "Epoch: 19 \tTraining Loss: 0.180113\n",
      "Epoch: 19 \tValidation Loss: 0.203964, Accuracy: 0.921900\n",
      "Epoch: 20 \tTraining Loss: 0.175703\n",
      "Epoch: 20 \tValidation Loss: 0.207389, Accuracy: 0.925500\n"
     ]
    }
   ],
   "source": [
    "for epoch in range(1, epochs+1):\n",
    "    train(epoch)\n",
    "    val(epoch)"
   ]
  },
  {
   "cell_type": "code",
   "execution_count": 19,
   "metadata": {},
   "outputs": [],
   "source": [
    "save_path = \"./FahionModel.pkl\"\n",
    "torch.save(model, save_path)"
   ]
  }
 ],
 "metadata": {
  "kernelspec": {
   "display_name": "Python 3.7.1 ('pytorch')",
   "language": "python",
   "name": "python3"
  },
  "language_info": {
   "codemirror_mode": {
    "name": "ipython",
    "version": 3
   },
   "file_extension": ".py",
   "mimetype": "text/x-python",
   "name": "python",
   "nbconvert_exporter": "python",
   "pygments_lexer": "ipython3",
   "version": "3.7.1"
  },
  "orig_nbformat": 4,
  "vscode": {
   "interpreter": {
    "hash": "5da60e2a9548b1451378568c9bbd9389177ea512d36b61a0763bf3d806b69d96"
   }
  }
 },
 "nbformat": 4,
 "nbformat_minor": 2
}
