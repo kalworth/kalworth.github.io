{
 "cells": [
  {
   "cell_type": "markdown",
   "metadata": {},
   "source": [
    "## K折交叉验证模型调优"
   ]
  },
  {
   "cell_type": "markdown",
   "metadata": {},
   "source": [
    "### CV车道渲染(baseline调优)"
   ]
  },
  {
   "cell_type": "markdown",
   "metadata": {},
   "source": [
    "- 导入第三方库"
   ]
  },
  {
   "cell_type": "code",
   "execution_count": 1,
   "metadata": {},
   "outputs": [
    {
     "name": "stderr",
     "output_type": "stream",
     "text": [
      "C:\\Users\\王佳乐\\AppData\\Roaming\\Python\\Python38\\site-packages\\tqdm\\auto.py:22: TqdmWarning: IProgress not found. Please update jupyter and ipywidgets. See https://ipywidgets.readthedocs.io/en/stable/user_install.html\n",
      "  from .autonotebook import tqdm as notebook_tqdm\n"
     ]
    }
   ],
   "source": [
    "import os\n",
    "import glob\n",
    "from PIL import Image\n",
    "import csv\n",
    "import numpy as np\n",
    "\n",
    "import torch\n",
    "import torchvision\n",
    "import torch.optim as optim\n",
    "import torch.nn as nn\n",
    "import torchvision.transforms as transforms\n",
    "from torch.utils.data import DataLoader\n",
    "import torch.utils.data as data\n",
    "import matplotlib.pyplot as plt"
   ]
  },
  {
   "cell_type": "markdown",
   "metadata": {},
   "source": [
    "- 自定义dataset"
   ]
  },
  {
   "cell_type": "code",
   "execution_count": 2,
   "metadata": {},
   "outputs": [],
   "source": [
    "class ImageSet(data.Dataset):\n",
    "    def __init__(\n",
    "            self,\n",
    "            images,\n",
    "            labels,\n",
    "            transform):\n",
    "        self.transform = transform\n",
    "        self.images = images\n",
    "        self.labels = labels\n",
    "\n",
    "    def __getitem__(self, item):\n",
    "        imagename = self.images[item]\n",
    "        try:\n",
    "            image = Image.open(imagename)\n",
    "            image = image.convert('RGB')\n",
    "        except:\n",
    "            image = Image.fromarray(np.zeros((256, 256), dtype=np.int8))\n",
    "            image = image.convert('RGB')\n",
    "\n",
    "        image = self.transform(image)\n",
    "        return image, torch.tensor(self.labels[item])\n",
    "\n",
    "    def __len__(self):\n",
    "        return len(self.images)"
   ]
  },
  {
   "cell_type": "markdown",
   "metadata": {},
   "source": [
    "- 配置GPU环境以及设置部分超参"
   ]
  },
  {
   "cell_type": "code",
   "execution_count": 3,
   "metadata": {},
   "outputs": [
    {
     "name": "stdout",
     "output_type": "stream",
     "text": [
      "True\n"
     ]
    }
   ],
   "source": [
    "# GPU判断和配置\n",
    "print(torch.cuda.is_available())\n",
    "os.environ['CUDA_VISIBLE_DEVICES'] = '0'\n",
    "# 设置部分超参\n",
    "batch_size = 32\n",
    "num_worker = 0  # windows设置为0\n",
    "fold_epochs = 1    # 迭代次数"
   ]
  },
  {
   "cell_type": "markdown",
   "metadata": {},
   "source": [
    "- 加载训练集"
   ]
  },
  {
   "cell_type": "code",
   "execution_count": 4,
   "metadata": {},
   "outputs": [],
   "source": [
    "import pandas as pd\n",
    "import codecs\n",
    "\n",
    "lines = codecs.open('C:/Users/王佳乐/Datawhale/test/datawhale相关学习赛事/华为CV车道渲染/data/digix-2022-cv-sample-0829/train_label.csv').readlines()\n",
    "train_label = pd.DataFrame({\n",
    "    'image': ['C:/Users/王佳乐/Datawhale/test/datawhale相关学习赛事/华为CV车道渲染/data/digix-2022-cv-sample-0829/train_image/' + x.strip().split(',')[0] for x in lines],\n",
    "    'label': [x.strip().split(',')[1:] for x in lines],\n",
    "})\n",
    "train_label['new_label'] = train_label['label'].apply(lambda x: int('0' in x))"
   ]
  },
  {
   "cell_type": "markdown",
   "metadata": {},
   "source": [
    "- 标签二值化"
   ]
  },
  {
   "cell_type": "code",
   "execution_count": 5,
   "metadata": {},
   "outputs": [
    {
     "data": {
      "text/plain": [
       "1969"
      ]
     },
     "execution_count": 5,
     "metadata": {},
     "output_type": "execute_result"
    }
   ],
   "source": [
    "import cv2, os\n",
    "def check_image(path):\n",
    "    try:\n",
    "        if os.path.exists(path):\n",
    "            return True\n",
    "        else:\n",
    "            return False\n",
    "    except:\n",
    "        return False\n",
    "\n",
    "train_is_valid = train_label['image'].apply(lambda x: check_image(x) )\n",
    "train_label = train_label[train_is_valid]\n",
    "len(train_label)"
   ]
  },
  {
   "cell_type": "markdown",
   "metadata": {},
   "source": [
    "- 数据预处理"
   ]
  },
  {
   "cell_type": "code",
   "execution_count": 6,
   "metadata": {},
   "outputs": [],
   "source": [
    "trfs = transforms.Compose([\n",
    "    transforms.Resize((224, 224)),\n",
    "    transforms.RandomHorizontalFlip(),\n",
    "    transforms.ToTensor(),\n",
    "    transforms.Normalize(mean=[0.485, 0.456, 0.406], std=[0.229, 0.224, 0.225])\n",
    "])"
   ]
  },
  {
   "cell_type": "markdown",
   "metadata": {},
   "source": [
    "- 交叉验证数据集初始化"
   ]
  },
  {
   "cell_type": "code",
   "execution_count": 7,
   "metadata": {},
   "outputs": [],
   "source": [
    "#设置划分数目\n",
    "k_value = 7\n",
    "#每份含有的样本数目\n",
    "each_num = int(len(train_label)/k_value)   #取整\n",
    "train_label.index = list(np.arange(1,len(train_label)+1))   #顺序化索引"
   ]
  },
  {
   "cell_type": "markdown",
   "metadata": {},
   "source": [
    "- 模型定义"
   ]
  },
  {
   "cell_type": "code",
   "execution_count": 8,
   "metadata": {},
   "outputs": [
    {
     "name": "stderr",
     "output_type": "stream",
     "text": [
      "c:\\Anaconda3\\envs\\pytorch_gpu\\lib\\site-packages\\torchvision\\models\\_utils.py:208: UserWarning: The parameter 'pretrained' is deprecated since 0.13 and will be removed in 0.15, please use 'weights' instead.\n",
      "  warnings.warn(\n",
      "c:\\Anaconda3\\envs\\pytorch_gpu\\lib\\site-packages\\torchvision\\models\\_utils.py:223: UserWarning: Arguments other than a weight enum or `None` for 'weights' are deprecated since 0.13 and will be removed in 0.15. The current behavior is equivalent to passing `weights=ResNet18_Weights.IMAGENET1K_V1`. You can also use `weights=ResNet18_Weights.DEFAULT` to get the most up-to-date weights.\n",
      "  warnings.warn(msg)\n"
     ]
    }
   ],
   "source": [
    "model = torchvision.models.resnet18(pretrained=True)\n",
    "model.fc = torch.nn.Linear(512, 2)\n",
    "model = model.cuda()"
   ]
  },
  {
   "cell_type": "markdown",
   "metadata": {},
   "source": [
    "- Loss函数和优化器设置"
   ]
  },
  {
   "cell_type": "code",
   "execution_count": 9,
   "metadata": {},
   "outputs": [],
   "source": [
    "optimizer = optim.SGD(model.parameters(), lr=0.005)\n",
    "loss = nn.CrossEntropyLoss()"
   ]
  },
  {
   "cell_type": "markdown",
   "metadata": {},
   "source": [
    "- 定义交叉验证中训练和验证函数"
   ]
  },
  {
   "cell_type": "code",
   "execution_count": 10,
   "metadata": {},
   "outputs": [],
   "source": [
    "import time\n",
    "def train(t_loder):\n",
    "    model.train()\n",
    "    start_t = time.time()\n",
    "    epoch_l = 0\n",
    "    epoch_t = 0\n",
    "    for batch_idx, batch in enumerate(t_loder):\n",
    "        optimizer.zero_grad()\n",
    "        image, label = batch\n",
    "        image, label = image.to('cuda'), label.to('cuda')\n",
    "        output = model(image)\n",
    "\n",
    "        l = loss(output, label)\n",
    "        l.backward()\n",
    "        optimizer.step()\n",
    "\n",
    "        batch_l = l.item()\n",
    "        epoch_l += batch_l\n",
    "        batch_t = time.time() - start_t\n",
    "        epoch_t += batch_t\n",
    "        start_t = time.time()\n",
    "\n",
    "\n",
    "        \n",
    "        #if batch_idx % 10  == 0:\n",
    "           #print(l.item(), batch_idx, len(train_loader))\n",
    "\n",
    "    # epoch_t = epoch_t / len(train_loader)\n",
    "    # epoch_l = epoch_l / len(train_loader)\n",
    "    return epoch_l,epoch_t\n",
    "    #print('Training times: {}/{}\\tTraining loss: {:.4f}\\tAverage time: {:.2f}.'.format(t_times+1,k_value-1,epoch_l,epoch_t))\n",
    "\n",
    "def val(v_loder):\n",
    "    model.eval()\n",
    "    val_loss = 0\n",
    "    gt_labels = []\n",
    "    pred_labels = []\n",
    "    with torch.no_grad():\n",
    "        for batch_idx, batch in enumerate(v_loder):\n",
    "            image,label = batch\n",
    "            image,label = image.cuda(), label.cuda()\n",
    "            output = model(image)\n",
    "            preds = torch.argmax(output, 1)\n",
    "            gt_labels.append(label.cpu().data.numpy())\n",
    "            pred_labels.append(preds.cpu().data.numpy())\n",
    "            loss_val = loss(output, label)\n",
    "            val_loss += loss_val.item()*image.size(0)\n",
    "    val_loss = val_loss/len(v_loder.dataset) \n",
    "    gt_labels, pred_labels = np.concatenate(gt_labels), np.concatenate(pred_labels)\n",
    "    acc = np.sum(gt_labels==pred_labels)/len(pred_labels)\n",
    "    return val_loss,acc\n",
    "    #print('Validation Loss: {:.6f}, Accuracy: {:6f}'.format(val_loss, acc))"
   ]
  },
  {
   "cell_type": "markdown",
   "metadata": {},
   "source": [
    "- 创建位移列表"
   ]
  },
  {
   "cell_type": "code",
   "execution_count": 11,
   "metadata": {},
   "outputs": [],
   "source": [
    "#循环右移\n",
    "def list_move_right(A,a):\n",
    "    for i in range(a):\n",
    "        A.insert(0,A.pop())\n",
    "    return A\n"
   ]
  },
  {
   "cell_type": "markdown",
   "metadata": {},
   "source": [
    "- 开始验证"
   ]
  },
  {
   "cell_type": "code",
   "execution_count": 12,
   "metadata": {},
   "outputs": [
    {
     "name": "stdout",
     "output_type": "stream",
     "text": [
      "fold: 1/7\n",
      "fold: 2/7\n",
      "fold: 3/7\n",
      "fold: 4/7\n",
      "fold: 5/7\n",
      "fold: 6/7\n",
      "fold: 7/7\n",
      "Fold_Epoch: 1/1\ttrain Loss: 0.174783\tval Acc: 0.9466\tAverage time: 8.67.\n"
     ]
    }
   ],
   "source": [
    "for epoch in range(fold_epochs):\n",
    "    #模型权重保存和读取\n",
    "    save_dir = 'C:/Users/王佳乐/Datawhale/test/pytorch/model/Cv_dict.pkl'\n",
    "    loaded_dict = torch.load(save_dir)\n",
    "    model.state_dict = loaded_dict\n",
    "    ##\n",
    "    epoch_tloss = 0\n",
    "    val_acc = 0\n",
    "    epoch_t = 0\n",
    "    train_label = train_label.sample(frac=1).reset_index(drop=True)   #打乱原数据集\n",
    "\n",
    "    for list_num in range(k_value):      # 遍历完之后为一次完整的K折交叉\n",
    "        move_list = list(range(0,k_value,1))\n",
    "        use_list = list_move_right(move_list,list_num)\n",
    "\n",
    "        for run_number in range(k_value-1):\n",
    "            index_head = use_list.index(run_number)*each_num\n",
    "            index_end = index_head + each_num\n",
    "    \n",
    "            ##    划分训练集\n",
    "            train_dataset = ImageSet(train_label['image'].values[index_head:index_end],train_label['new_label'].values[index_head:index_end],trfs)\n",
    "            train_loader = DataLoader(train_dataset,batch_size=batch_size,shuffle=False,num_workers=0,pin_memory=True,drop_last=True)\n",
    "            #      训练\n",
    "            train_loss,train_time = train(train_loader)\n",
    "            epoch_tloss += train_loss\n",
    "            epoch_t +=train_time\n",
    "\n",
    "        \n",
    "        ##    划分验证\n",
    "        val_index_head = (use_list.index(max(use_list)))*each_num\n",
    "        val_index_end = val_index_head+each_num\n",
    "        val_dataset = ImageSet(train_label['image'].values[val_index_head:val_index_end],train_label['new_label'].values[val_index_head:val_index_end],trfs)\n",
    "        val_loder = DataLoader(train_dataset,batch_size=batch_size,shuffle=False,num_workers=0,pin_memory=True)\n",
    "\n",
    "        #验证\n",
    "        val_loss,acc = val(val_loder)\n",
    "        val_acc += acc\n",
    "        #print('Fold: {}/{}'.format(list_num+1,k_value))\n",
    "    train_number = k_value*(k_value-1)\n",
    "    val_number = k_value\n",
    "    print('Fold_Epoch: {}/{}\\ttrain Loss: {:.6f}\\tval Acc: {:.4f}\\tAverage time: {:.2f}.'.format(epoch+1,fold_epochs,epoch_tloss/train_number,val_acc/val_number,epoch_t/k_value))\n",
    "    torch.save(model.state_dict, save_dir)\n",
    "        "
   ]
  },
  {
   "cell_type": "markdown",
   "metadata": {},
   "source": [
    "- Test和生成csv结果文件"
   ]
  },
  {
   "cell_type": "code",
   "execution_count": 13,
   "metadata": {},
   "outputs": [
    {
     "data": {
      "text/plain": [
       "313"
      ]
     },
     "execution_count": 13,
     "metadata": {},
     "output_type": "execute_result"
    }
   ],
   "source": [
    "test_images = glob.glob('C:/Users/王佳乐/Datawhale/test/datawhale相关学习赛事/华为CV车道渲染/data/digix-2022-cv-sample-0829/test_images/*')\n",
    "test_dataset = ImageSet(test_images, [0] * len(test_images), trfs)\n",
    "\n",
    "test_loader = DataLoader(\n",
    "    test_dataset,\n",
    "    batch_size=32,\n",
    "    shuffle=False,\n",
    "    num_workers=0,\n",
    "    pin_memory=True,\n",
    ")\n",
    "len(test_loader)"
   ]
  },
  {
   "cell_type": "code",
   "execution_count": 14,
   "metadata": {},
   "outputs": [],
   "source": [
    "#测试\n",
    "for data in test_loader:\n",
    "    break"
   ]
  },
  {
   "cell_type": "code",
   "execution_count": 15,
   "metadata": {},
   "outputs": [],
   "source": [
    "model.eval()\n",
    "to_prob = nn.Softmax(dim=1)\n",
    "with torch.no_grad():\n",
    "    imagenames, probs = list(), list()\n",
    "    for batch_idx, batch in enumerate(test_loader):\n",
    "        image, _ = batch\n",
    "        image = image.to('cuda')\n",
    "        pred = model(image)\n",
    "        prob = to_prob(pred)\n",
    "        prob = list(prob.data.cpu().numpy())\n",
    "        probs += prob"
   ]
  },
  {
   "cell_type": "code",
   "execution_count": 16,
   "metadata": {},
   "outputs": [],
   "source": [
    "import csv\n",
    "with open('submission.csv', 'w',newline = '', encoding='utf8') as fp:\n",
    "    writer = csv.writer(fp)\n",
    "    writer.writerow(['imagename', 'defect_prob'])\n",
    "    for imagename, prob in zip(test_images, probs):\n",
    "        imagename = os.path.basename(imagename)\n",
    "        writer.writerow([imagename, str(prob[0])])"
   ]
  }
 ],
 "metadata": {
  "kernelspec": {
   "display_name": "Python 3 (ipykernel)",
   "language": "python",
   "name": "python3"
  },
  "language_info": {
   "codemirror_mode": {
    "name": "ipython",
    "version": 3
   },
   "file_extension": ".py",
   "mimetype": "text/x-python",
   "name": "python",
   "nbconvert_exporter": "python",
   "pygments_lexer": "ipython3",
   "version": "3.9.7"
  },
  "vscode": {
   "interpreter": {
    "hash": "5da60e2a9548b1451378568c9bbd9389177ea512d36b61a0763bf3d806b69d96"
   }
  }
 },
 "nbformat": 4,
 "nbformat_minor": 2
}
